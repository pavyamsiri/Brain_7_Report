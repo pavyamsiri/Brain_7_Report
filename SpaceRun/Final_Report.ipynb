{
 "cells": [
  {
   "cell_type": "markdown",
   "metadata": {},
   "source": [
    "# DATA3888/PHYS3888 Interdisciplinary Report: Space Run\n",
    "\n",
    "***"
   ]
  },
  {
   "cell_type": "markdown",
   "metadata": {},
   "source": [
    "\n",
    "## 1. Executive Summary\n",
    "\n",
    "In the interdisciplinary unit of DATA3888/PHYS3888 (Semester 1, 2021), our team aimed to build a brain machine interface that uses machine-learning techniques to gain meaningful insights from real-time physiological measurements. In an increasingly data-driven world, there is a demand for data scientists to effectively combine, analyse and derive observations from large datasets (University of Sydney, 2021). Physicists are also required to adapt from their traditional qualitative-grounded science and apply their expertise more broadly in this data-centric era in order to contribute to modern day problems (University of Sydney, 2021). Through this interdisciplinary project, Brain_7 has introduced an innovative solution that  illustrates the concepts and skills we have learnt from our respective disciplines. In addition, the dual disciplinary team helmed by Data Science and Physics majors, worked together to utilise our strengths to a collaborative advantage. \n",
    "\n",
    "Our focus for Brain_7 was to design a solution that solved a modern-day social problem. Over 4.3 million Australians are estimated to have a form of disability, and over three-quarters (76.8%) of those living with a disability reported a physical disorder as their main condition (Australian Network of Disability, 2019). With these factors taken into consideration, our aim for this project was not only to demonstrate our interdisciplinary effectiveness but also, to conceptualise a solution that would actively engage the population living with mobility issues. \n",
    "\n",
    "The solution that we have created is Space Run, a game inspired by Space Invaders and Temple Run. The Physics students used the Brain Spikerbox and the EEG headband to detect electrical activity caused by eye movement changes. These measurements were then extracted by the Data students using a simple classifier which assessed and then categorised the eye movements into left and right. The decisions made by the simple classifier were fed into the application, allowing a user to play our creative yet simple game, Space Run. \n"
   ]
  },
  {
   "cell_type": "markdown",
   "metadata": {},
   "source": [
    "## 2. Aim & Methods \n",
    "\n",
    "### 2.1 Data Collection\n",
    "\n",
    "**Aim**: *To obtain data for accuracy tests.*\n",
    "\n",
    "**Applications/Equipment**:\n",
    "* EEG Headband x1\n",
    "* SpikerBox x1\n",
    "    * USB cable x1\n",
    "    * Red alligator clips x2\n",
    "    * Black alligator clip x1\n",
    "    * 9V battery x1\n",
    "* Electrode Pad x1\n",
    "* SpikeRecorder App \n",
    "* Python \n",
    "\n",
    "**Method**: *Obtaining data using SpikeRecorder/Python.*\n",
    "\n",
    "1. The EEG headband was worn around the head. The two electrodes on the band were placed directly above the eyebrow and parallel to the eye.\n",
    "2. An electrode pad was placed behind the ear on the bone.\n",
    "3. A 9V battery was placed in the SpikerBox. One end of the three alligator clips were also connected to the SpikerBox. The SpikerBox was then connected to a computer with the USB cable. \n",
    "4. The two red alligator clips were then connected to each electrode on the headband and the black alligator clip connected to the electrode on the neck.\n",
    "5. The SpikeRecorder app was opened and the SpikerBox turned on. Or otherwise Python was opened and the script ‘saver.py’ ran.\n",
    "6. In SpikeRecorder settings the band pass filter was set to 8-15Hz and the notch filter set to 50Hz.\n",
    "7. We recorded 3 consecutive left eye-movements. The recording and the annotation file was saved.\n",
    "8. Step 7 was repeated 10 times. Each repetition was labeled numerically ie. The first recording and annotation were labeled 3L_1.\n",
    "9. We then recorded 3 consecutive right eye-movements. The recording and the annotation file was saved.\n",
    "10. Step 9 was repeated 10 times. Each repetition was labeled numerically ie. The first recording and annotation was labeled 3R_1.\n",
    "\n",
    "**Method**: *Performing Left and Right Eye-Movements.*\n",
    "1. The wearer of the EEG headband remained seated, sitting still and in an upright position. They were told to refrain from speaking or moving any part of their body other than their eyes.\n",
    "2. Eye’s began by looking straight ahead.\n",
    "3. For a left eye-movement they were told “left”. The operator of the SpikeRecorder app then pressed the spacebar simultaneously so an annotation would be recorded of when the movement occurred.\n",
    "4. To move left they moved their eyes quickly from the central resting point to the furthest left point and then quickly back to central position in horizontal motion.\n",
    "5. Three consecutive left eye movements were recorded in a single file with each movement occurring 3 seconds after the previous.\n",
    "6. Steps 1 to 5 were repeated when recording right eye-movements. However they were cued to move with a verbal “right” and looked to the farthest right point on the horizontal.\n",
    "\n",
    "\n",
    "\n",
    "\n",
    "\n",
    "**Aim**: *To filter and standardise the data on Python.*\n",
    "\n",
    "\n",
    "**Method**: The raw data read from the SpikerBox was kept in a moving buffer. This buffer gets standardised, notch filtered at 50 Hz (electronic noise from mains power supply) and then downsampled to ~100 samples before being passed into a classifier model to be classified. The downsampling is done to ensure the classification is consistent across varying buffer sizes and also to increase performance.\n",
    "\n"
   ]
  },
  {
   "cell_type": "markdown",
   "metadata": {},
   "source": [
    "### 2.2 Developed Model \n",
    "#### 2.2.1 Simple Classifier \n",
    "\n",
    "**Aim**: *To detect eye movements.*\n",
    "\n",
    "**Method**: The zero-crossing heuristic is used to detect eye movements. Based on the data collected, it can be seen that when there is an eye movement, values tend to be either consecutively positive or consecutively negative, indicating that adjacent values do not cross zero, which means their product is greater than zero. In contrast, when there is no eye movement, values tend to hover around zero so adjacent values are likely to be of different signs, and thus their product is less than zero. Therefore, within a certain time interval, if the number of zero-crossing events exceeds a certain threshold, there is no eye movement, otherwise there is an eye movement. To determine the size of the time interval and the threshold for the number of zero-crossing, an optimization algorithm was used which was an aim that will be discussed later. \n",
    "\n"
   ]
  },
  {
   "cell_type": "markdown",
   "metadata": {},
   "source": [
    "**Aim**: *To identify left and right eye movements.*\n",
    "\n",
    "**Method**: Once an eye movement is detected, whether it is left or right needs to be determined. It is obvious that the order of peak and trough was opposite for left and right eye movements. For a left eye movement, it is firstly a trough and then a peak while for a right eye movement, it is a peak followed by a trough. This allows left and right to be decided based on determining which comes first, the maximum or minimum value. If the minimum is before the maximum, it is a left eye movement, otherwise it is a right eye movement. \n",
    "\n"
   ]
  },
  {
   "cell_type": "markdown",
   "metadata": {},
   "source": [
    "**Aim**: *To prevent misidentification of events.*\n",
    "\n",
    "**Method**:To prevent misidentifying noise as events, there were restrictions for minimum amplitude. Noise could also have some values that are away from zero but usually these values are not as large as the maximum value of an eye movement, nor as small as the minimum value of an eye movement, in other words, the amplitude of noise is not large enough. Thus restricting a minimum amplitude helps filter noise. \n",
    "\n",
    "To prevent the gap between two consecutive events from being mistaken for an event, there were restrictions for maximum spacing between peak and trough. If a time interval includes the second half of a previous event and the first half of a subsequent event, this interval may be misidentified as having an eye movement. For example, two left movements were made and there is a time interval between them including the second half of the first left movement, a peak, and the first half of the second left movement, a trough and then this time interval could be mistaken for an eye movement. According to the fact that in a real eye movement the spacing is small because there is no stopping while moving eyes, the maximum spacing between peak and trough is restricted to avoid the misidentification. \n",
    "\n"
   ]
  },
  {
   "cell_type": "markdown",
   "metadata": {},
   "source": [
    "**Aim**: *To optimize the classifier.*\n",
    "\n",
    "**Method**: for simple classifier: In order to optimise the classifier, the most appropriate values need to be found for the parameters. Firstly, an accuracy measurement function is made to return 1 - accuracy. Then an optimisation algorithm scipy.optimize.minimize() which is based on the nelder-mead algorithm was used to minimise the accuracy measurement function. Basically it computes the accuracy measurement function given an initial set of parameters and uses some algorithms to determine the next set of values to test and so on. Then it chooses the set of parameters that minimises the function. As a result,  parameters that maximized the accuracy of the classifier were returned. \n",
    "The parameters that were considered to be optimized and their values were as follows: \n",
    "* Buffer time (amount of time represented in the moving buffer): 1.462\n",
    "* Update factor (the fraction of the moving buffer read in through the stream): 0.1\n",
    "* Wait time (wait time after classification): 0\n",
    "* Number of samples (to downsample before classification): 106\n",
    "* Quality factor (parameter used in notch filter): 1\n",
    "* Event threshold (the threshold for the number of zero-crossing): 101\n",
    "* Positive amplitude threshold: 15\n",
    "* Negative amplitude threshold: 15\n",
    "* Spacing (maximal spacing between peak and trough as a fraction of number of samples): 0.206\n"
   ]
  },
  {
   "cell_type": "markdown",
   "metadata": {},
   "source": [
    "#### 2.2.2 Complex Classifier\n",
    "**Aim**: *To determine whether a complex classifier is more suitable than the simple classifiers.*\n",
    "\n",
    "**Method**: The complex classifier uses features computed by the catch22 library to train on samples. These samples were created from SpikerBox recordings using an annotations file that contains timestamps to when the eye movements occurred.\n"
   ]
  },
  {
   "cell_type": "markdown",
   "metadata": {},
   "source": [
    "### 2.3 Evaluation Strategies \n",
    "**Aim**: *To evaluate the accuracies of classifiers.*\n",
    "\n",
    "**Method**: A total of 23 test files were recorded using `saver.py`. 22 of which consisted of around 3 left or 3 right eye movements with the last file being a 2 minute long recording of around 33 events. Using 10-fold cross validation the accuracies per fold to produce a boxplot for each classifier. The accuracy used was the prediction accuracy of the classifier which is the percentage of predictions made by the classifier that were correct i.e. corresponded to an actual event as described by the annotation files.\n"
   ]
  },
  {
   "cell_type": "markdown",
   "metadata": {},
   "source": [
    "**Aim**: *To evaluate the computational time (lagging) of classifiers.*\n",
    "\n",
    "**Method**: The time taken for a classifier to return a result given processed data was recorded for all 5 models on one single test file for 1000 trials. This data produced a box plot as shown below.\n"
   ]
  },
  {
   "cell_type": "markdown",
   "metadata": {},
   "source": [
    "## 3. Results "
   ]
  },
  {
   "cell_type": "markdown",
   "metadata": {},
   "source": [
    "### 3.1 Justification \r\n",
    "We have experimented with different classifiers such as the Modified Simple Classifier (MSC) Unmodified Simple Classifier (USC), K-Nearest Neighbours (KNN), Random Forest Classifier (RFC) and C Support Vector Classification (SVC). Our two main criteria for evaluating each classifier was the accuracy rate and the time it took to classify the eye movements from left and right. We prioritised accuracy and hence evaluated each model in terms of the accuracy rate they produced. The boxplot of accuracies produced above was done through a 10-fold cross validation to train and test each respective model. Each model was then evaluated against a test dataset to produce the box plots of weighted average accuracy. In addition, as shown in Figure 1,\r\n",
    "down-sampling increases performance across all models of classification. However, for the simple classifiers it was difficult to observe a noticeable difference by down-sampling as the time it took to classify was already extremely short (<1ms).\r\n",
    "\r\n",
    "### *Figure 1*: Effect of downsampling on performance\r\n",
    "\r\n",
    "<!-- ![Effect of downsampling on performance](SpaceRun/diagnostics/downsampling_performance.png) -->\r\n",
    "<img src=\"diagnostics/downsampling_performance.png\" width=\"800\" height=\"600\" />\r\n",
    "\r\n",
    "The USC gave an approximate median accuracy of 30% which was similarly seen in KNN. Both models had a slight skew towards the right and had a moderate dispersion. These were the two lowest accurate models and were hence not considered further for the deployment of our project. SVC gave a slightly higher median accuracy of approximately 50% but as shown in the Figure 2 but had a much greater spread in the accuracies recorded which caused it to be unreliable and was not considered further in terms of accuracy. RFC gave a higher median accuracy of approximately 70% and had a slight left skew whilst MSC gave a 100% accuracy rate across for most snippets of data. However, contrary to expectations, the outlier noted was due to the extended recording of eye movements.\r\n",
    "\r\n",
    "### *Figure 2*: Streaming accuracy across models\r\n",
    "\r\n",
    "<img src=\"diagnostics/streaming_boxplot.png\" width=\"800\" height=\"600\" />\r\n",
    "\r\n",
    "We took into consideration the two models RFC and MSC which had the highest median accuracies initially. After further discussion, we have chosen to go with MSC as the classification time for RFC was undoubtedly higher with a median of 8ms compared to MSC which classified in under 1ms as shown in the Figure 3.\r\n",
    "\r\n",
    "### *Figure 3*: Classification performance\r\n",
    "\r\n",
    "<img src=\"diagnostics/classification_performance_boxplot.png\" width=\"800\" height=\"600\" />\r\n"
   ]
  },
  {
   "cell_type": "markdown",
   "metadata": {},
   "source": [
    "### 3.2 Deployment Process \r\n",
    "In Figure 4 shown below, depicts a step-by-step process of how Space Run works. Through the lens of a Physics disciplinary perspective, the changes in electrical impulse when there are spontaneous changes in eye movement are detected by electrodes in the EEG headband which are connected to the SpikerBox. These readings are then fed into the computer. In line with data-science methodology, the computer then sends the raw data to a moving buffer, a window size of approximately 1.5 seconds.  The readings are then standardized by applying a 50 Hz notch filter and the classifier then determines whether the eye movements were left or right. This process is iterated continuously and hence allows the user to play the game by controlling the spaceship left and right. Whilst this process is ongoing the same computer displays and handles the game logic simultaneously. (See ***demonstration.mp4*** for a video recording).\r\n",
    "\r\n",
    "### *Figure 4*: Project Schematic\r\n",
    "\r\n",
    "<img src=\"diagnostics/schematic.png\" width=\"800\" height=\"450\" />\r\n",
    "\r\n",
    "Space Run is a simple game where the user controls the spaceship left and right, collecting the blue pigments of energy and avoiding the red obstacles. There are three possible lanes and if a player is in the left most lane and signals left with their eye movements. The Spaceship loops around, like a torus, moving in the right most position. \r\n",
    "\r\n"
   ]
  },
  {
   "cell_type": "markdown",
   "metadata": {},
   "source": [
    "## 4. Discussion and Conclusion \n",
    "\n",
    "\n",
    "While our model was mostly accurate following our testing, there were some shortcomings that we identified that remain as areas that can be further improved upon. In terms of raw input, we collected a sample size of recordings with most of the group members in our team and noticed slight differences in each of them when observing the recorded files. This only goes to show the nuance and adjustments that our model would need to adapt to for there to be any consideration of commercial deployment. Since our final product does not have a calibration phase before playing the game, it is only a handful of the team members’ data that is being used on what could be a novel user. Adding a calibration phase would be ideal in bypassing the small sample size by using the phase as an opportunity to collect new training data for our model whilst also adjusting the model to the specific user. \n",
    "\n",
    "In terms of the classification that our model provides, an ideal feature to add is the ability to recognise and classify blinks. The game we developed utilises left and right eye-movement, with the objective being to collect and dodge colour-coded obstacles. Whilst entertaining upon inception, it could potentially get boring with time due to the complexity of the game being constant. Adding the ability to blink as a control for shooting oncoming obstacles could be a viable option that brings more depth to the game and adds to its value as a product for entertainment. However, this would not linearly get complex as the game progresses, hence, it would be worth considering finding ways in which the game’s difficulty can be scaled. There is a universal timekeeping variable in the game that controls the speed of oncoming obstacles, which could be modified to scale with time as the user progresses, thus creating a challenging environment where the user is entertained and focused. But, scaling the speed of the game has major potential for breaking our game as the model currently being used utilises a 1.5-second buffer in between the classification of events, and there would eventually be a point where the user needs to give input with an interval lesser than the buffer period. This would then require further readjustment of the model to create a shorter window.\n",
    "\n",
    "In conclusion, our product utilises a model that is robust in its accuracy as well as its efficiency when it comes to classifying eye movements. Our team was able to successfully implement a pipeline from the SpikerBox’s electrodes, with our physics team members finding effective ways of preprocessing the data with appropriate standardising and notch filtering, and in conjunction with the data science members developing a classification model trained on our team’s data and able to send input to the game’s logic with minimal latency, allowing the user to experience a game with accurate movements. For further future development, it would be ideal in finding more ways to make the game more complex and entertaining, whilst developing a method allowing for a shorter buffer period for our classifier.\n"
   ]
  },
  {
   "cell_type": "markdown",
   "metadata": {},
   "source": [
    "### Student Contribution\n",
    "480452061: Generating data, writing the code, tuning the machine, writing/editing the report\n",
    "\n",
    "490423002:  Generating the data, tuning the machine, performing the processing, writing the code, making observations, deploying the final product and writing/editing the report\n",
    "\n",
    "480465692:  Generating the data, writing/editing the report\n",
    "\n",
    "490182143: Generating data, writing/editing the report\n",
    "\n",
    "490433791: Generating data, making observations, writing/editing report\n"
   ]
  },
  {
   "cell_type": "markdown",
   "metadata": {},
   "source": [
    "## 5. References \n",
    "\n",
    "\n",
    "1. Australian Network On Disability (2019) Disability Statistics \n",
    "\n",
    "        https://www.and.org.au/pages/disability-statistics.html \n",
    "\n",
    "2. University of Sydney (2021) DATA3888: Data Science Capstone \n",
    "\n",
    "        https://www.sydney.edu.au/units/DATA3888 \n",
    "\n",
    "3. University of Sydney (2021) PHYS388: Physics Interdisciplinary Project \n",
    "\n",
    "        https://www.sydney.edu.au/units/PHYS3888 "
   ]
  },
  {
   "cell_type": "markdown",
   "metadata": {},
   "source": [
    "## 6. Appendix"
   ]
  },
  {
   "cell_type": "markdown",
   "metadata": {},
   "source": [
    "## Program Structure\r\n",
    "\r\n",
    "The game can be played by either running python `main.py` in the SpaceRun folder or using the SpaceRun.exe executable."
   ]
  },
  {
   "cell_type": "markdown",
   "metadata": {},
   "source": [
    "# Benchmarks\r\n",
    "\r\n",
    "The benchmarks done on a computer with a\r\n",
    "* AMD Ryzen 5 2600X CPU\r\n",
    "* Gigabyte NVIDIA RTX 3060 GPU\r\n",
    "* 16 GB RAM"
   ]
  },
  {
   "cell_type": "code",
   "execution_count": 28,
   "metadata": {},
   "outputs": [],
   "source": [
    "#  Benchmark code\r\n",
    "# Imports\r\n",
    "import time\r\n",
    "from typing import Dict, List\r\n",
    "import numpy as np\r\n",
    "import yaml\r\n",
    "from scipy import signal\r\n",
    "from matplotlib import pyplot as plt\r\n",
    "import os\r\n",
    "import pickle\r\n",
    "\r\n",
    "from aliases import FilePath\r\n",
    "from models import *\r\n",
    "from utils import parse_snippet"
   ]
  },
  {
   "cell_type": "code",
   "execution_count": 29,
   "metadata": {},
   "outputs": [],
   "source": [
    "# Create diagnostics folder\r\n",
    "DIAGNOSTICS_FOLDER: FilePath = \"diagnostics\"\r\n",
    "if not os.path.isdir(DIAGNOSTICS_FOLDER):\r\n",
    "    os.mkdir(DIAGNOSTICS_FOLDER)"
   ]
  },
  {
   "cell_type": "code",
   "execution_count": 30,
   "metadata": {},
   "outputs": [],
   "source": [
    "# Timing function\r\n",
    "def time_model(model: ModelBase, num_trials: int) -> List[int]:\r\n",
    "    performance_times: List[int] = []\r\n",
    "    for _ in range(num_trials):\r\n",
    "        start_time: int = time.perf_counter_ns()\r\n",
    "        _ = model.classify(test_data)\r\n",
    "        final_time: int = time.perf_counter_ns()\r\n",
    "        performance_times.append((final_time - start_time) // 1e6)\r\n",
    "    return performance_times"
   ]
  },
  {
   "cell_type": "markdown",
   "metadata": {},
   "source": [
    "# Classification performance across models"
   ]
  },
  {
   "cell_type": "code",
   "execution_count": 31,
   "metadata": {},
   "outputs": [
    {
     "data": {
      "image/png": "[encoded data removed]",
      "text/plain": [
       "<Figure size 432x288 with 1 Axes>"
      ]
     },
     "metadata": {
      "needs_background": "light"
     },
     "output_type": "display_data"
    }
   ],
   "source": [
    "# Load from cache\r\n",
    "classification_performance_flag = False\r\n",
    "classification_performance_cache: FilePath = f\"{DIAGNOSTICS_FOLDER}/classification_performance.pickle\"\r\n",
    "if os.path.isfile(classification_performance_cache):\r\n",
    "    with open(classification_performance_cache, \"rb\") as handle:\r\n",
    "        accuracy_data = pickle.load(handle)\r\n",
    "        plt.boxplot(accuracy_data.values(), labels=[\"MSC\", \"USC\", \"KNN\", \"RFC\", \"SVC\"])\r\n",
    "        plt.ylabel(\"Classification time (ms)\")\r\n",
    "        plt.title(\"Classification model performance benchmark\");\r\n",
    "        classification_performance_flag = True"
   ]
  },
  {
   "cell_type": "code",
   "execution_count": 32,
   "metadata": {},
   "outputs": [],
   "source": [
    "# Process if cache does not exist\r\n",
    "if not classification_performance_flag:\r\n",
    "    # Load SpikerBox parameters\r\n",
    "    CONFIG_PATH: FilePath = \"settings/spiker_box.srconfig\"\r\n",
    "    with open(CONFIG_PATH, \"r\") as config_file:\r\n",
    "        config_data: Dict = yaml.safe_load(config_file)\r\n",
    "        # SpikerBox arguments\r\n",
    "        buffer_time: float = float(config_data[\"buffer_time\"])\r\n",
    "        update_factor: float = float(config_data[\"update_factor\"])\r\n",
    "        wait_time: float = float(config_data[\"wait_time\"])\r\n",
    "        num_samples: int = int(config_data[\"num_samples\"])\r\n",
    "        quality_factor: float = float(config_data[\"quality_factor\"])\r\n",
    "        # Modified simple classifier parameters\r\n",
    "        m_event_threshold: int = int(config_data[\"classifier\"][\"MSC\"][\"event_threshold\"])\r\n",
    "        positive_amplitude: float = float(config_data[\"classifier\"][\"MSC\"][\"positive_amplitude\"])\r\n",
    "        negative_amplitude: float = float(config_data[\"classifier\"][\"MSC\"][\"negative_amplitude\"])\r\n",
    "        spacing: float = float(config_data[\"classifier\"][\"MSC\"][\"spacing\"])\r\n",
    "        # Simple classifier parameters\r\n",
    "        s_event_threshold: int = int(config_data[\"classifier\"][\"USC\"][\"event_threshold\"])\r\n",
    "        # Catch22 model paths\r\n",
    "        knn_path: FilePath = config_data[\"classifier\"][\"KNN\"][\"file_path\"]\r\n",
    "        rfc_path: FilePath = config_data[\"classifier\"][\"RFC\"][\"file_path\"]\r\n",
    "        svc_path: FilePath = config_data[\"classifier\"][\"SVC\"][\"file_path\"]"
   ]
  },
  {
   "cell_type": "code",
   "execution_count": 33,
   "metadata": {},
   "outputs": [],
   "source": [
    "if not classification_performance_flag:\r\n",
    "    # Initialise models\r\n",
    "    modified_model: ModelBase = ModifiedModel(m_event_threshold, positive_amplitude, negative_amplitude, spacing)\r\n",
    "    simple_model: ModelBase = SimpleModel(s_event_threshold)\r\n",
    "    knn_model: ModelBase = Catch22Model.create_from_file(knn_path)\r\n",
    "    rfc_model: ModelBase = Catch22Model.create_from_file(rfc_path)\r\n",
    "    svc_model: ModelBase = Catch22Model.create_from_file(svc_path)"
   ]
  },
  {
   "cell_type": "code",
   "execution_count": 34,
   "metadata": {},
   "outputs": [],
   "source": [
    "if not classification_performance_flag:\r\n",
    "    TEST_FILE: FilePath = \"snippets/left1_left_1.npy\"\r\n",
    "    # Load snippet\r\n",
    "    signal_slice, _ = parse_snippet(np.load(TEST_FILE))\r\n",
    "    # Standardise and downsample signal\r\n",
    "    test_data: np.ndarray = signal.resample(signal_slice, num_samples)\r\n",
    "    # Number of trials\r\n",
    "    num_trials: int = int(1e3)"
   ]
  },
  {
   "cell_type": "code",
   "execution_count": 35,
   "metadata": {},
   "outputs": [],
   "source": [
    "if not classification_performance_flag:\r\n",
    "    # Compute times\r\n",
    "    classification_times: Dict[ModelType, List[int]] = {}\r\n",
    "    classification_times[ModelType.MSC] = time_model(modified_model, num_trials)\r\n",
    "    classification_times[ModelType.USC] = time_model(simple_model, num_trials)\r\n",
    "    classification_times[ModelType.KNN] = time_model(knn_model, num_trials)\r\n",
    "    classification_times[ModelType.RFC] = time_model(rfc_model, num_trials)\r\n",
    "    classification_times[ModelType.SVC] = time_model(svc_model, num_trials)"
   ]
  },
  {
   "cell_type": "code",
   "execution_count": 36,
   "metadata": {},
   "outputs": [],
   "source": [
    "if not classification_performance_flag:\r\n",
    "    # Boxplot\r\n",
    "    plt.boxplot(classification_times.values(), labels=[\"MSC\", \"USC\", \"KNN\", \"RFC\", \"SVC\"])\r\n",
    "    plt.ylabel(\"Classification time (ms)\")\r\n",
    "    plt.title(\"Classification model performance benchmark\");\r\n",
    "    if not os.path.isfile(f\"{DIAGNOSTICS_FOLDER}/classification_performance_boxplot.png\"):\r\n",
    "        plt.savefig(f\"{DIAGNOSTICS_FOLDER}/classification_performance_boxplot.png\")"
   ]
  },
  {
   "cell_type": "code",
   "execution_count": 37,
   "metadata": {},
   "outputs": [],
   "source": [
    "# Save to cache\r\n",
    "if not classification_performance_flag and not os.path.isfile(classification_performance_cache):\r\n",
    "    with open(classification_performance_cache, \"wb\") as handle:\r\n",
    "        pickle.dump(classification_times, handle, protocol=pickle.DEFAULT_PROTOCOL)"
   ]
  },
  {
   "cell_type": "markdown",
   "metadata": {},
   "source": [
    "# Downsampling and Performance"
   ]
  },
  {
   "cell_type": "code",
   "execution_count": 38,
   "metadata": {},
   "outputs": [],
   "source": [
    "# Initialise\r\n",
    "number_of_samples = np.arange(10, 1000, 100);"
   ]
  },
  {
   "cell_type": "code",
   "execution_count": 39,
   "metadata": {},
   "outputs": [
    {
     "data": {
      "image/png": "[encoded data removed]",
      "text/plain": [
       "<Figure size 864x576 with 1 Axes>"
      ]
     },
     "metadata": {
      "needs_background": "light"
     },
     "output_type": "display_data"
    }
   ],
   "source": [
    "# Load from cache\r\n",
    "downsampling_performance_flag = False\r\n",
    "downsampling_performance_cache: FilePath = f\"{DIAGNOSTICS_FOLDER}/downsampling_performance.pickle\"\r\n",
    "if os.path.isfile(downsampling_performance_cache):\r\n",
    "    with open(downsampling_performance_cache, \"rb\") as handle:\r\n",
    "        loaded_times = pickle.load(handle)\r\n",
    "        plt.figure(figsize=(12, 8))\r\n",
    "        for key in loaded_times:\r\n",
    "            plt.plot(number_of_samples, loaded_times[key])\r\n",
    "        plt.legend(loaded_times.keys())\r\n",
    "        plt.xlabel(\"Number of samples\")\r\n",
    "        plt.ylabel(\"Time taken (ms)\")\r\n",
    "        plt.title(\"The effect of downsampling on classification time\")\r\n",
    "        downsampling_performance_flag = True"
   ]
  },
  {
   "cell_type": "code",
   "execution_count": 40,
   "metadata": {},
   "outputs": [],
   "source": [
    "# Process if cache does not exist\r\n",
    "if not downsampling_performance_flag:\r\n",
    "    sample_times: Dict[ModelType, List[int]] = {\r\n",
    "        ModelType.MSC: [],\r\n",
    "        ModelType.USC: [],\r\n",
    "        ModelType.KNN: [],\r\n",
    "        ModelType.RFC: [],\r\n",
    "        ModelType.SVC: [],\r\n",
    "    }\r\n",
    "    for idx, num in enumerate(number_of_samples):\r\n",
    "        # Standardise and downsample signal\r\n",
    "        test_data: np.ndarray = signal.resample(signal_slice, num)\r\n",
    "        # MSC\r\n",
    "        msc_times = time_model(modified_model, num_trials, test_data)\r\n",
    "        sample_times[ModelType.MSC].append(np.median(msc_times))\r\n",
    "        # USC\r\n",
    "        usc_times = time_model(simple_model, num_trials, test_data)\r\n",
    "        sample_times[ModelType.USC].append(np.median(usc_times))\r\n",
    "        # KNN\r\n",
    "        knn_times = time_model(knn_model, num_trials, test_data)\r\n",
    "        sample_times[ModelType.KNN].append(np.median(knn_times))\r\n",
    "        # RFC\r\n",
    "        rfc_times = time_model(rfc_model, num_trials, test_data)\r\n",
    "        sample_times[ModelType.RFC].append(np.median(rfc_times))\r\n",
    "        # SVC\r\n",
    "        svc_times = time_model(svc_model, num_trials, test_data)\r\n",
    "        sample_times[ModelType.SVC].append(np.median(svc_times))\r\n",
    "    \r\n",
    "    # Plot\r\n",
    "    plt.figure(figsize=(12, 8))\r\n",
    "    for key in sample_times:\r\n",
    "        plt.plot(number_of_samples, sample_times[key])\r\n",
    "    plt.legend(sample_times.keys())\r\n",
    "    plt.xlabel(\"Number of samples\")\r\n",
    "    plt.ylabel(\"Time taken (ms)\")\r\n",
    "    plt.title(\"The effect of downsampling on classification time\")\r\n",
    "    if not os.path.isfile(f\"{DIAGNOSTICS_FOLDER}/downsampling_performance.png\"):\r\n",
    "        plt.savefig(f\"{DIAGNOSTICS_FOLDER}/downsampling_performance.png\");\r\n",
    "\r\n",
    "    # Save to cache\r\n",
    "    if not os.path.isfile(downsampling_performance_cache):\r\n",
    "        with open(downsampling_performance_cache, \"wb\") as handle:\r\n",
    "            pickle.dump(sample_times, handle, protocol=pickle.DEFAULT_PROTOCOL)"
   ]
  },
  {
   "cell_type": "markdown",
   "metadata": {},
   "source": [
    "# Streaming accuracy"
   ]
  },
  {
   "cell_type": "code",
   "execution_count": 41,
   "metadata": {},
   "outputs": [],
   "source": [
    "# Imports\r\n",
    "# Standard modules\r\n",
    "from typing import Dict, NamedTuple, List, Tuple\r\n",
    "import os\r\n",
    "import pickle\r\n",
    "import glob\r\n",
    "\r\n",
    "# External modules\r\n",
    "import numpy as np\r\n",
    "import pandas as pd\r\n",
    "from matplotlib import pyplot as plt\r\n",
    "from sklearn.model_selection import KFold\r\n",
    "import yaml\r\n",
    "\r\n",
    "# Models\r\n",
    "from sklearn.neighbors import KNeighborsClassifier\r\n",
    "from sklearn.ensemble import RandomForestClassifier\r\n",
    "from sklearn import svm\r\n",
    "\r\n",
    "# Internal modules\r\n",
    "from aliases import *\r\n",
    "from models import *\r\n",
    "from snippet_accuracy import calculate_snippet_accuracy\r\n",
    "from streaming_accuracy import calculate_streaming_accuracy, DataSample, load_data_samples\r\n",
    "from train_models import Snippets, load_snippet_files, process_snippets"
   ]
  },
  {
   "cell_type": "code",
   "execution_count": 42,
   "metadata": {},
   "outputs": [
    {
     "data": {
      "image/png": "[encoded data removed]",
      "text/plain": [
       "<Figure size 432x288 with 1 Axes>"
      ]
     },
     "metadata": {
      "needs_background": "light"
     },
     "output_type": "display_data"
    }
   ],
   "source": [
    "# Load from cache\r\n",
    "streaming_accuracies_cache: FilePath = f\"{DIAGNOSTICS_FOLDER}/streaming_accuracies.pickle\"\r\n",
    "streaming_accuracy_flag: bool = False\r\n",
    "if os.path.isfile(streaming_accuracies_cache):\r\n",
    "    with open(streaming_accuracies_cache, \"rb\") as handle:\r\n",
    "        accuracy_data = pickle.load(handle)\r\n",
    "        plt.boxplot(accuracy_data.values(), labels=[\"MSC\", \"USC\", \"KNN\", \"RFC\", \"SVC\"])\r\n",
    "        plt.ylim(0, 1.1);\r\n",
    "        plt.ylabel(\"Accuracy\")\r\n",
    "        plt.title(\"10-fold cross validation streaming accuracies\")\r\n",
    "        streaming_accuracy_flag: bool = True"
   ]
  },
  {
   "cell_type": "code",
   "execution_count": 43,
   "metadata": {},
   "outputs": [],
   "source": [
    "if not streaming_accuracy_flag:\r\n",
    "    # Load timestamp data\r\n",
    "    CLASSIFICATION_FILE: FilePath = \"recordings/Actual Event Times.csv\"\r\n",
    "    df: pd.DataFrame = pd.read_csv(CLASSIFICATION_FILE)\r\n",
    "    data: List[DataSample] = load_data_samples(CLASSIFICATION_FILE)\r\n",
    "    \r\n",
    "    # 10-fold cross validation\r\n",
    "    kfold = KFold(n_splits=10, shuffle=True, random_state=1)\r\n",
    "    \r\n",
    "    # Load SpikerBox parameters\r\n",
    "    CONFIG_PATH: FilePath = \"settings/spiker_box.srconfig\"\r\n",
    "    with open(CONFIG_PATH, \"r\") as config_file:\r\n",
    "        config_data: Dict = yaml.safe_load(config_file)\r\n",
    "        # SpikerBox arguments\r\n",
    "        buffer_time: float = float(config_data[\"buffer_time\"])\r\n",
    "        update_factor: float = float(config_data[\"update_factor\"])\r\n",
    "        wait_time: float = float(config_data[\"wait_time\"])\r\n",
    "        num_samples: int = int(config_data[\"num_samples\"])\r\n",
    "        quality_factor: float = float(config_data[\"quality_factor\"])\r\n",
    "        # Modified simple classifier parameters\r\n",
    "        m_event_threshold: int = int(config_data[\"classifier\"][\"MSC\"][\"event_threshold\"])\r\n",
    "        positive_amplitude: float = float(config_data[\"classifier\"][\"MSC\"][\"positive_amplitude\"])\r\n",
    "        negative_amplitude: float = float(config_data[\"classifier\"][\"MSC\"][\"negative_amplitude\"])\r\n",
    "        spacing: float = float(config_data[\"classifier\"][\"MSC\"][\"spacing\"])\r\n",
    "        # Simple classifier parameters\r\n",
    "        s_event_threshold: int = int(config_data[\"classifier\"][\"USC\"][\"event_threshold\"])\r\n",
    "        # Catch22 model paths\r\n",
    "        knn_path: FilePath = config_data[\"classifier\"][\"KNN\"][\"file_path\"]\r\n",
    "        rfc_path: FilePath = config_data[\"classifier\"][\"RFC\"][\"file_path\"]\r\n",
    "        svc_path: FilePath = config_data[\"classifier\"][\"SVC\"][\"file_path\"]\r\n",
    "\r\n",
    "    # Snippets folder\r\n",
    "    SNIPPET_FOLDER: FilePath = \"snippets\""
   ]
  },
  {
   "cell_type": "code",
   "execution_count": 44,
   "metadata": {},
   "outputs": [],
   "source": [
    "# Tests simple models that don't require training\r\n",
    "def test_simplemodel_streaming(model: ModelBase, kfold: KFold) -> List[float]:\r\n",
    "    # Initialise model accuracy list\r\n",
    "    accuracies: List[float] = []\r\n",
    "    # Evaluate k-fold accuracy\r\n",
    "    for count, (train, test) in enumerate(kfold.split(data)):\r\n",
    "        _train_data: List[DataSample] = [sample for idx, sample in enumerate(data) if idx in train]\r\n",
    "        test_data: List[DataSample] = [sample for idx, sample in enumerate(data) if idx in test]\r\n",
    "\r\n",
    "        # Get accuracy\r\n",
    "        trial_accuracy: float = calculate_streaming_accuracy(\r\n",
    "            test_data,\r\n",
    "            model,\r\n",
    "            True,\r\n",
    "            buffer_time,\r\n",
    "            update_factor,\r\n",
    "            wait_time,\r\n",
    "            num_samples,\r\n",
    "            quality_factor,\r\n",
    "        )\r\n",
    "        # Append\r\n",
    "        accuracies.append(trial_accuracy)\r\n",
    "        # Iterate\r\n",
    "        print(f\"Finished trial {count+1}\")\r\n",
    "        count += 1\r\n",
    "    return accuracies"
   ]
  },
  {
   "cell_type": "code",
   "execution_count": 45,
   "metadata": {},
   "outputs": [],
   "source": [
    "# Trains the complex classifiers on the given training data\r\n",
    "def train_catch22model(untrained_model: SupportsPredict, training_files: List[FilePath]) -> Catch22Model:\r\n",
    "    train_data: List[FilePath] = []\r\n",
    "    for file_path in training_files:\r\n",
    "        _, tail = os.path.split(file_path)\r\n",
    "        tail = tail.rstrip(\".npy\")\r\n",
    "        for train_path in glob.glob(f\"{SNIPPET_FOLDER}/{tail}_*\"):\r\n",
    "            train_data.append(train_path)\r\n",
    "    snippets: Snippets = load_snippet_files({}, train_data)\r\n",
    "    snippet_data, labels = process_snippets(snippets, num_samples)\r\n",
    "    untrained_model.fit(snippet_data, labels)\r\n",
    "    return Catch22Model(untrained_model)"
   ]
  },
  {
   "cell_type": "code",
   "execution_count": 46,
   "metadata": {},
   "outputs": [],
   "source": [
    "# Evaluates the accuracy of the complex classifier\r\n",
    "def test_catch22model_streaming(data: List[DataSample], kfold: KFold, model_type: ModelType) -> List[float]:\r\n",
    "    accuracies: List[float] = []\r\n",
    "    # Evaluate k-fold accuracy\r\n",
    "    for count, (train, test) in enumerate(kfold.split(data)):\r\n",
    "        # Train model\r\n",
    "        training_files: List[FilePath] = [sample.file_name for idx, sample in enumerate(data) if idx in train]\r\n",
    "        untrained_model: SupportsPredict;\r\n",
    "        if model_type == ModelType.KNN:\r\n",
    "            untrained_model = KNeighborsClassifier(n_neighbors=5)\r\n",
    "        elif model_type == ModelType.RFC:\r\n",
    "            untrained_model = RandomForestClassifier(n_estimators=100)\r\n",
    "        elif model_type == ModelType.SVC:\r\n",
    "            untrained_model = svm.SVC()\r\n",
    "        model: Catch22Model = train_catch22model(untrained_model, training_files)\r\n",
    "        # Test data\r\n",
    "        test_data: List[DataSample] = [sample for idx, sample in enumerate(data) if idx in test]\r\n",
    "\r\n",
    "        # Get accuracy\r\n",
    "        trial_accuracy: float = calculate_streaming_accuracy(\r\n",
    "            test_data,\r\n",
    "            model,\r\n",
    "            True,\r\n",
    "            buffer_time,\r\n",
    "            update_factor,\r\n",
    "            wait_time,\r\n",
    "            num_samples,\r\n",
    "            quality_factor,\r\n",
    "        )\r\n",
    "        # Append\r\n",
    "        accuracies.append(trial_accuracy)\r\n",
    "        # Iterate\r\n",
    "        print(f\"Finished trial {count+1}\")\r\n",
    "        count += 1\r\n",
    "    return accuracies"
   ]
  },
  {
   "cell_type": "code",
   "execution_count": 47,
   "metadata": {},
   "outputs": [],
   "source": [
    "if not streaming_accuracy_flag:\r\n",
    "    # Initialise storage\r\n",
    "    streaming_accuracies: Dict[ModelType, List[float]] = {}"
   ]
  },
  {
   "cell_type": "code",
   "execution_count": 48,
   "metadata": {},
   "outputs": [],
   "source": [
    "if not streaming_accuracy_flag:\r\n",
    "    # Modified simple classifier\r\n",
    "    # Model parameters\r\n",
    "    model_parameters: List[float] = [\r\n",
    "        m_event_threshold,\r\n",
    "        positive_amplitude,\r\n",
    "        negative_amplitude,\r\n",
    "        spacing,\r\n",
    "    ]\r\n",
    "    # Initialise model\r\n",
    "    model: ModelBase = ModifiedModel(*model_parameters)\r\n",
    "    # Initialise model accuracy list\r\n",
    "    accuracies: List[float] = test_simplemodel_streaming(model, kfold)\r\n",
    "    # Set new value\r\n",
    "    streaming_accuracies[ModelType.MSC] = accuracies\r\n",
    "    print(np.median(accuracies))"
   ]
  },
  {
   "cell_type": "code",
   "execution_count": 49,
   "metadata": {},
   "outputs": [],
   "source": [
    "if not streaming_accuracy_flag:\r\n",
    "    # Simple classifier\r\n",
    "    # Initialise model\r\n",
    "    model: ModelBase = SimpleModel(s_event_threshold)\r\n",
    "    # Initialise model accuracy list\r\n",
    "    accuracies: List[float] = test_simplemodel_streaming(model, kfold)\r\n",
    "    # Set new value\r\n",
    "    streaming_accuracies[ModelType.USC] = accuracies\r\n",
    "    print(np.median(accuracies))"
   ]
  },
  {
   "cell_type": "code",
   "execution_count": 50,
   "metadata": {},
   "outputs": [],
   "source": [
    "if not streaming_accuracy_flag:\r\n",
    "    # KNN\r\n",
    "    accuracies: List[float] = test_catch22model_streaming(data, kfold, ModelType.KNN)\r\n",
    "    # Set new value\r\n",
    "    streaming_accuracies[ModelType.KNN] = accuracies\r\n",
    "    print(np.median(accuracies))"
   ]
  },
  {
   "cell_type": "code",
   "execution_count": 51,
   "metadata": {},
   "outputs": [],
   "source": [
    "if not streaming_accuracy_flag:\r\n",
    "    # RFC\r\n",
    "    accuracies: List[float] = test_catch22model_streaming(data, kfold, ModelType.RFC)\r\n",
    "    # Set new value\r\n",
    "    streaming_accuracies[ModelType.RFC] = accuracies\r\n",
    "    print(np.median(accuracies))"
   ]
  },
  {
   "cell_type": "code",
   "execution_count": 52,
   "metadata": {},
   "outputs": [],
   "source": [
    "if not streaming_accuracy_flag:\r\n",
    "    # SVC\r\n",
    "    accuracies: List[float] = test_catch22model_streaming(data, kfold, ModelType.SVC)\r\n",
    "    # Set new value\r\n",
    "    streaming_accuracies[ModelType.SVC] = accuracies\r\n",
    "    print(np.median(accuracies))"
   ]
  },
  {
   "cell_type": "code",
   "execution_count": 53,
   "metadata": {},
   "outputs": [],
   "source": [
    "if not streaming_accuracy_flag:\r\n",
    "    # Boxplot comparing all the accuracies across models\r\n",
    "    plt.boxplot(streaming_accuracies.values(), labels=[\"MSC\", \"USC\", \"KNN\", \"RFC\", \"SVC\"])\r\n",
    "    plt.ylim(0, 1.1);\r\n",
    "    plt.ylabel(\"Accuracy\")\r\n",
    "    plt.title(\"10-fold cross validation streaming accuracies\")\r\n",
    "    if not os.path.isfile(f\"{DIAGNOSTICS_FOLDER}/streaming_boxplot.png\"):\r\n",
    "        plt.savefig(f\"{DIAGNOSTICS_FOLDER}/streaming_boxplot.png\");"
   ]
  },
  {
   "cell_type": "code",
   "execution_count": 54,
   "metadata": {},
   "outputs": [],
   "source": [
    "# Save to cache\r\n",
    "if not streaming_accuracy_flag and not os.path.isfile(streaming_accuracies_cache):\r\n",
    "    with open(streaming_accuracies_cache, \"wb\") as handle:\r\n",
    "        pickle.dump(streaming_accuracies, handle)"
   ]
  },
  {
   "cell_type": "markdown",
   "metadata": {},
   "source": [
    "# Extra information\r\n",
    "\r\n",
    "See the README.md for more information on how to use all the scripts in **SpaceRun**."
   ]
  }
 ],
 "metadata": {
  "interpreter": {
   "hash": "54e01427aa8be7bec89e51c9856e65d365354790435ad568830a6719ba3e065c"
  },
  "kernelspec": {
   "display_name": "Python 3.9.2 64-bit ('main_env': conda)",
   "name": "python3"
  },
  "language_info": {
   "codemirror_mode": {
    "name": "ipython",
    "version": 3
   },
   "file_extension": ".py",
   "mimetype": "text/x-python",
   "name": "python",
   "nbconvert_exporter": "python",
   "pygments_lexer": "ipython3",
   "version": "3.9.2"
  }
 },
 "nbformat": 4,
 "nbformat_minor": 2
}